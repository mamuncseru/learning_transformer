{
  "nbformat": 4,
  "nbformat_minor": 0,
  "metadata": {
    "colab": {
      "provenance": [],
      "authorship_tag": "ABX9TyM4mNMliorx+c6JEwqFWhCW",
      "include_colab_link": true
    },
    "kernelspec": {
      "name": "python3",
      "display_name": "Python 3"
    },
    "language_info": {
      "name": "python"
    }
  },
  "cells": [
    {
      "cell_type": "markdown",
      "metadata": {
        "id": "view-in-github",
        "colab_type": "text"
      },
      "source": [
        "<a href=\"https://colab.research.google.com/github/mamuncseru/learning_transformer/blob/main/Normalization.ipynb\" target=\"_parent\"><img src=\"https://colab.research.google.com/assets/colab-badge.svg\" alt=\"Open In Colab\"/></a>"
      ]
    },
    {
      "cell_type": "markdown",
      "source": [
        "## Canonical Equivalence"
      ],
      "metadata": {
        "id": "gr-OYf9for45"
      }
    },
    {
      "cell_type": "markdown",
      "source": [
        "Unicode variance"
      ],
      "metadata": {
        "id": "lfK0NL43pbYO"
      }
    },
    {
      "cell_type": "code",
      "execution_count": 1,
      "metadata": {
        "colab": {
          "base_uri": "https://localhost:8080/"
        },
        "id": "h-waI8Gyooro",
        "outputId": "deac9be1-0d9c-4825-8e7c-951ee570de0f"
      },
      "outputs": [
        {
          "output_type": "execute_result",
          "data": {
            "text/plain": [
              "True"
            ]
          },
          "metadata": {},
          "execution_count": 1
        }
      ],
      "source": [
        "\"C\" == \"C\""
      ]
    },
    {
      "cell_type": "code",
      "source": [
        "print('\\u00C7', \"\\u0043\\u0327\")"
      ],
      "metadata": {
        "colab": {
          "base_uri": "https://localhost:8080/"
        },
        "id": "mCNFy7cxpK2V",
        "outputId": "03c32d62-e933-45f1-a3a9-dd1b506ed880"
      },
      "execution_count": 2,
      "outputs": [
        {
          "output_type": "stream",
          "name": "stdout",
          "text": [
            "Ç Ç\n"
          ]
        }
      ]
    },
    {
      "cell_type": "markdown",
      "source": [],
      "metadata": {
        "id": "87VzKAT5paPP"
      }
    },
    {
      "cell_type": "markdown",
      "source": [
        "## Compatibility Equivalence"
      ],
      "metadata": {
        "id": "Sgfs2yYKoxE4"
      }
    },
    {
      "cell_type": "markdown",
      "source": [
        "Font Variant, Circled variant, Superscript, Subscript, Fractions"
      ],
      "metadata": {
        "id": "4R7yvzsLo12c"
      }
    },
    {
      "cell_type": "code",
      "source": [],
      "metadata": {
        "id": "Ircf3KiPpjAv"
      },
      "execution_count": null,
      "outputs": []
    },
    {
      "cell_type": "markdown",
      "source": [
        "## Decomposition and Composition"
      ],
      "metadata": {
        "id": "8lDSf5JMpmAP"
      }
    },
    {
      "cell_type": "markdown",
      "source": [
        "> Canonical decomposition -> Canonical composition\n",
        "\n",
        "> Normal Forms\n"
      ],
      "metadata": {
        "id": "kIulcpojpoUn"
      }
    },
    {
      "cell_type": "code",
      "source": [
        "import unicodedata"
      ],
      "metadata": {
        "id": "68sPOV-rp7KW"
      },
      "execution_count": 3,
      "outputs": []
    },
    {
      "cell_type": "code",
      "source": [
        "c_with_cedilla = '\\u00C7'\n",
        "c_with_cedilla"
      ],
      "metadata": {
        "colab": {
          "base_uri": "https://localhost:8080/",
          "height": 35
        },
        "id": "YtMZdxAOqY4H",
        "outputId": "84a6c62a-4895-49fb-dc35-d36fd3bd0bc5"
      },
      "execution_count": 10,
      "outputs": [
        {
          "output_type": "execute_result",
          "data": {
            "text/plain": [
              "'Ç'"
            ],
            "application/vnd.google.colaboratory.intrinsic+json": {
              "type": "string"
            }
          },
          "metadata": {},
          "execution_count": 10
        }
      ]
    },
    {
      "cell_type": "code",
      "source": [
        "c_plus_cedilla = '\\u0043\\u0327'\n",
        "c_plus_cedilla"
      ],
      "metadata": {
        "colab": {
          "base_uri": "https://localhost:8080/",
          "height": 35
        },
        "id": "Bi0J3zgXqgSv",
        "outputId": "7f3f5708-e4c6-4045-db40-0f51b97d2900"
      },
      "execution_count": 5,
      "outputs": [
        {
          "output_type": "execute_result",
          "data": {
            "text/plain": [
              "'Ç'"
            ],
            "application/vnd.google.colaboratory.intrinsic+json": {
              "type": "string"
            }
          },
          "metadata": {},
          "execution_count": 5
        }
      ]
    },
    {
      "cell_type": "code",
      "source": [
        "c_with_cedilla == c_plus_cedilla"
      ],
      "metadata": {
        "colab": {
          "base_uri": "https://localhost:8080/"
        },
        "id": "Jq_wHPlIqm53",
        "outputId": "2de66a3e-eeed-4c24-b889-aed2f250f21b"
      },
      "execution_count": 6,
      "outputs": [
        {
          "output_type": "execute_result",
          "data": {
            "text/plain": [
              "False"
            ]
          },
          "metadata": {},
          "execution_count": 6
        }
      ]
    },
    {
      "cell_type": "code",
      "source": [
        "unicodedata.normalize('NFD', c_with_cedilla) == c_plus_cedilla"
      ],
      "metadata": {
        "colab": {
          "base_uri": "https://localhost:8080/"
        },
        "id": "-CWBP19nqplH",
        "outputId": "4ac933ce-8962-4e4d-c966-2d3db4278d7b"
      },
      "execution_count": 7,
      "outputs": [
        {
          "output_type": "execute_result",
          "data": {
            "text/plain": [
              "True"
            ]
          },
          "metadata": {},
          "execution_count": 7
        }
      ]
    },
    {
      "cell_type": "code",
      "source": [
        "unicodedata.normalize('NFD', c_with_cedilla)"
      ],
      "metadata": {
        "colab": {
          "base_uri": "https://localhost:8080/",
          "height": 35
        },
        "id": "RAtDKpBHq4cn",
        "outputId": "9728ade7-f46b-48b9-9a7c-2d8bc373ee37"
      },
      "execution_count": 8,
      "outputs": [
        {
          "output_type": "execute_result",
          "data": {
            "text/plain": [
              "'Ç'"
            ],
            "application/vnd.google.colaboratory.intrinsic+json": {
              "type": "string"
            }
          },
          "metadata": {},
          "execution_count": 8
        }
      ]
    },
    {
      "cell_type": "code",
      "source": [
        "c_with_cedilla == unicodedata.normalize('NFC', c_plus_cedilla)"
      ],
      "metadata": {
        "colab": {
          "base_uri": "https://localhost:8080/"
        },
        "id": "R0FSbJ9Bq7eH",
        "outputId": "f4fe7b8a-4e63-4402-a22c-1a98d2e760cb"
      },
      "execution_count": 11,
      "outputs": [
        {
          "output_type": "execute_result",
          "data": {
            "text/plain": [
              "True"
            ]
          },
          "metadata": {},
          "execution_count": 11
        }
      ]
    },
    {
      "cell_type": "code",
      "source": [
        "unicodedata.normalize('NFC', c_with_cedilla) == unicodedata.normalize('NFC', c_plus_cedilla)"
      ],
      "metadata": {
        "colab": {
          "base_uri": "https://localhost:8080/"
        },
        "id": "oL379kAerMZm",
        "outputId": "1a9bbd16-7d22-49c3-90d7-dcb54adc58bb"
      },
      "execution_count": 12,
      "outputs": [
        {
          "output_type": "execute_result",
          "data": {
            "text/plain": [
              "True"
            ]
          },
          "metadata": {},
          "execution_count": 12
        }
      ]
    },
    {
      "cell_type": "markdown",
      "source": [
        "## Normal form Compatibility"
      ],
      "metadata": {
        "id": "9XJTIKkqrb9m"
      }
    },
    {
      "cell_type": "code",
      "source": [
        "print('\\u210C')"
      ],
      "metadata": {
        "colab": {
          "base_uri": "https://localhost:8080/"
        },
        "id": "hbXc5A22r72A",
        "outputId": "a51f2646-ec49-4e7b-aafd-c44ed24cc9ee"
      },
      "execution_count": 16,
      "outputs": [
        {
          "output_type": "stream",
          "name": "stdout",
          "text": [
            "ℌ\n"
          ]
        }
      ]
    },
    {
      "cell_type": "code",
      "source": [
        "'H' == 'ℌ'"
      ],
      "metadata": {
        "colab": {
          "base_uri": "https://localhost:8080/"
        },
        "id": "Z7Lxd-SZsHGf",
        "outputId": "36687be8-eaa8-4ce3-9818-947d9d2a52e4"
      },
      "execution_count": 19,
      "outputs": [
        {
          "output_type": "execute_result",
          "data": {
            "text/plain": [
              "False"
            ]
          },
          "metadata": {},
          "execution_count": 19
        }
      ]
    },
    {
      "cell_type": "code",
      "source": [
        "unicodedata.normalize('NFC', 'ℌ')"
      ],
      "metadata": {
        "colab": {
          "base_uri": "https://localhost:8080/",
          "height": 35
        },
        "id": "-8F4Lwn3rhpQ",
        "outputId": "cfe807ef-912d-46f8-9799-d41f8b5dec44"
      },
      "execution_count": 18,
      "outputs": [
        {
          "output_type": "execute_result",
          "data": {
            "text/plain": [
              "'ℌ'"
            ],
            "application/vnd.google.colaboratory.intrinsic+json": {
              "type": "string"
            }
          },
          "metadata": {},
          "execution_count": 18
        }
      ]
    },
    {
      "cell_type": "code",
      "source": [
        "fancy_h_with_cedilla = '\\u210b\\u0327'\n",
        "fancy_h_with_cedilla"
      ],
      "metadata": {
        "colab": {
          "base_uri": "https://localhost:8080/",
          "height": 35
        },
        "id": "4z8Nu8ZYrwzW",
        "outputId": "e04481f5-1fe3-4303-f161-538a935f9a5d"
      },
      "execution_count": 20,
      "outputs": [
        {
          "output_type": "execute_result",
          "data": {
            "text/plain": [
              "'ℋ̧'"
            ],
            "application/vnd.google.colaboratory.intrinsic+json": {
              "type": "string"
            }
          },
          "metadata": {},
          "execution_count": 20
        }
      ]
    },
    {
      "cell_type": "code",
      "source": [
        "h_with_cedilla = '\\u1e28'\n",
        "h_with_cedilla"
      ],
      "metadata": {
        "colab": {
          "base_uri": "https://localhost:8080/",
          "height": 35
        },
        "id": "Gp4jX8tEsXNt",
        "outputId": "0bf0377e-8362-4a10-cd75-8269cd1d48bb"
      },
      "execution_count": 21,
      "outputs": [
        {
          "output_type": "execute_result",
          "data": {
            "text/plain": [
              "'Ḩ'"
            ],
            "application/vnd.google.colaboratory.intrinsic+json": {
              "type": "string"
            }
          },
          "metadata": {},
          "execution_count": 21
        }
      ]
    },
    {
      "cell_type": "code",
      "source": [
        "fancy_h_with_cedilla == h_with_cedilla"
      ],
      "metadata": {
        "colab": {
          "base_uri": "https://localhost:8080/"
        },
        "id": "m7eYupIasbju",
        "outputId": "5402fccd-52ff-4c7f-c369-11170ae1d54c"
      },
      "execution_count": 22,
      "outputs": [
        {
          "output_type": "execute_result",
          "data": {
            "text/plain": [
              "False"
            ]
          },
          "metadata": {},
          "execution_count": 22
        }
      ]
    },
    {
      "cell_type": "code",
      "source": [
        "unicodedata.normalize('NFKC', fancy_h_with_cedilla) == h_with_cedilla"
      ],
      "metadata": {
        "colab": {
          "base_uri": "https://localhost:8080/"
        },
        "id": "w1WlexUusgGe",
        "outputId": "06523b6d-76de-43e0-9f46-237efb63d37f"
      },
      "execution_count": 23,
      "outputs": [
        {
          "output_type": "execute_result",
          "data": {
            "text/plain": [
              "True"
            ]
          },
          "metadata": {},
          "execution_count": 23
        }
      ]
    },
    {
      "cell_type": "code",
      "source": [],
      "metadata": {
        "id": "P3hCfWHHsloO"
      },
      "execution_count": null,
      "outputs": []
    }
  ]
}