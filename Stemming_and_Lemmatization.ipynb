{
  "nbformat": 4,
  "nbformat_minor": 0,
  "metadata": {
    "colab": {
      "provenance": [],
      "authorship_tag": "ABX9TyN0v2Twp2WPiVcKw84EZp1A",
      "include_colab_link": true
    },
    "kernelspec": {
      "name": "python3",
      "display_name": "Python 3"
    },
    "language_info": {
      "name": "python"
    }
  },
  "cells": [
    {
      "cell_type": "markdown",
      "metadata": {
        "id": "view-in-github",
        "colab_type": "text"
      },
      "source": [
        "<a href=\"https://colab.research.google.com/github/mamuncseru/learning_transformer/blob/main/Stemming_and_Lemmatization.ipynb\" target=\"_parent\"><img src=\"https://colab.research.google.com/assets/colab-badge.svg\" alt=\"Open In Colab\"/></a>"
      ]
    },
    {
      "cell_type": "code",
      "execution_count": 1,
      "metadata": {
        "id": "1-Znb8LqmfaE"
      },
      "outputs": [],
      "source": [
        "txt = \"I am amazed by how amazingly amazing you are\""
      ]
    },
    {
      "cell_type": "code",
      "source": [
        "words_to_stem = ['happy', 'happiest', 'happier', 'cactus', 'cactii', 'elephant', 'elephants', 'amazed', 'amazing', 'amazingly', 'cement', 'owed', 'maximum']\n"
      ],
      "metadata": {
        "id": "wORLL5o8mo3o"
      },
      "execution_count": 2,
      "outputs": []
    },
    {
      "cell_type": "code",
      "source": [
        "from nltk.stem import PorterStemmer, LancasterStemmer"
      ],
      "metadata": {
        "id": "fJZ1ui1em-Lh"
      },
      "execution_count": 3,
      "outputs": []
    },
    {
      "cell_type": "code",
      "source": [
        "porter = PorterStemmer()\n",
        "lancaster = LancasterStemmer()"
      ],
      "metadata": {
        "id": "B6KvgEq7nFIC"
      },
      "execution_count": 4,
      "outputs": []
    },
    {
      "cell_type": "code",
      "source": [
        "stemmed = [(porter.stem(word), lancaster.stem(word)) for word in words_to_stem]\n"
      ],
      "metadata": {
        "id": "39AN5yiWnI_q"
      },
      "execution_count": 5,
      "outputs": []
    },
    {
      "cell_type": "code",
      "source": [
        "stemmed"
      ],
      "metadata": {
        "colab": {
          "base_uri": "https://localhost:8080/"
        },
        "id": "g0O_1xoJnWiK",
        "outputId": "217ea869-fc57-4a9d-e08b-24c43a42c303"
      },
      "execution_count": 6,
      "outputs": [
        {
          "output_type": "execute_result",
          "data": {
            "text/plain": [
              "[('happi', 'happy'),\n",
              " ('happiest', 'happiest'),\n",
              " ('happier', 'happy'),\n",
              " ('cactu', 'cact'),\n",
              " ('cactii', 'cacti'),\n",
              " ('eleph', 'eleph'),\n",
              " ('eleph', 'eleph'),\n",
              " ('amaz', 'amaz'),\n",
              " ('amaz', 'amaz'),\n",
              " ('amazingli', 'amaz'),\n",
              " ('cement', 'cem'),\n",
              " ('owe', 'ow'),\n",
              " ('maximum', 'maxim')]"
            ]
          },
          "metadata": {},
          "execution_count": 6
        }
      ]
    },
    {
      "cell_type": "markdown",
      "source": [
        "## Lemmatization"
      ],
      "metadata": {
        "id": "B0Jhbc3in1zq"
      }
    },
    {
      "cell_type": "code",
      "source": [
        "words = ['amaze', 'amazed', 'amazing']"
      ],
      "metadata": {
        "id": "mEfe0hXZnaiN"
      },
      "execution_count": 7,
      "outputs": []
    },
    {
      "cell_type": "code",
      "source": [
        "import nltk\n",
        "nltk.download('wordnet')"
      ],
      "metadata": {
        "colab": {
          "base_uri": "https://localhost:8080/"
        },
        "id": "U3CKwiezn9R5",
        "outputId": "31b346e4-e89d-44a5-d3cf-1196f6a5ba90"
      },
      "execution_count": 8,
      "outputs": [
        {
          "output_type": "stream",
          "name": "stderr",
          "text": [
            "[nltk_data] Downloading package wordnet to /root/nltk_data...\n"
          ]
        },
        {
          "output_type": "execute_result",
          "data": {
            "text/plain": [
              "True"
            ]
          },
          "metadata": {},
          "execution_count": 8
        }
      ]
    },
    {
      "cell_type": "code",
      "source": [
        "from nltk.stem import WordNetLemmatizer"
      ],
      "metadata": {
        "id": "m7Jeza1eoAXZ"
      },
      "execution_count": 9,
      "outputs": []
    },
    {
      "cell_type": "code",
      "source": [
        "lemmatizer = WordNetLemmatizer()"
      ],
      "metadata": {
        "id": "0IwtM26AoEVh"
      },
      "execution_count": 10,
      "outputs": []
    },
    {
      "cell_type": "code",
      "source": [
        "[lemmatizer.lemmatize(word) for word in words]"
      ],
      "metadata": {
        "colab": {
          "base_uri": "https://localhost:8080/"
        },
        "id": "dX-AmS20oHGw",
        "outputId": "22725d89-9781-4a08-b52a-761bdc26bc89"
      },
      "execution_count": 11,
      "outputs": [
        {
          "output_type": "execute_result",
          "data": {
            "text/plain": [
              "['amaze', 'amazed', 'amazing']"
            ]
          },
          "metadata": {},
          "execution_count": 11
        }
      ]
    },
    {
      "cell_type": "code",
      "source": [
        "from nltk.corpus import wordnet"
      ],
      "metadata": {
        "id": "s1PhkzzxoKmA"
      },
      "execution_count": 12,
      "outputs": []
    },
    {
      "cell_type": "code",
      "source": [
        "[lemmatizer.lemmatize(word, wordnet.VERB) for word in words]"
      ],
      "metadata": {
        "colab": {
          "base_uri": "https://localhost:8080/"
        },
        "id": "c6zQsRO_oRlo",
        "outputId": "cb827c42-84d3-4ecc-cc7d-d1b9e742f5a5"
      },
      "execution_count": 13,
      "outputs": [
        {
          "output_type": "execute_result",
          "data": {
            "text/plain": [
              "['amaze', 'amaze', 'amaze']"
            ]
          },
          "metadata": {},
          "execution_count": 13
        }
      ]
    },
    {
      "cell_type": "code",
      "source": [],
      "metadata": {
        "id": "6OpJJ_NToU1z"
      },
      "execution_count": null,
      "outputs": []
    }
  ]
}